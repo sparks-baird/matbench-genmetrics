{
 "cells": [
  {
   "cell_type": "markdown",
   "metadata": {},
   "source": [
    "This Python script employs a five-folds leveraging the `mp_time_split` subpackage. By treating materials discovered in the future as generated data, the script benchmarks the progress of materials discovery over time. Each fold partitions the dataset into distinct training, validation, and generated sets, simulating the incremental advancement of materials science."
   ]
  },
  {
   "cell_type": "markdown",
   "metadata": {},
   "source": [
    "<a href=\"https://colab.research.google.com/github/sparks-baird/matbench-genmetrics/blob/main/notebooks/core/2.0-matbench-genmetrics-materials_discovery_progress_benchmark.ipynb\" target=\"_parent\"><img src=\"https://colab.research.google.com/assets/colab-badge.svg\" alt=\"Open In Colab\"/></a>"
   ]
  },
  {
   "cell_type": "markdown",
   "metadata": {},
   "source": [
    "<font color=\"red\">**NOTE: If using Colab, \"Restart Runtime\" after installation.**</font>"
   ]
  },
  {
   "cell_type": "code",
   "execution_count": null,
   "metadata": {},
   "outputs": [],
   "source": [
    "from google.colab import output\n",
    "output.enable_custom_widget_manager()"
   ]
  },
  {
   "cell_type": "code",
   "execution_count": null,
   "metadata": {},
   "outputs": [],
   "source": [
    "try:\n",
    "    import google.colab  # type: ignore # noqa: F401\n",
    "    %pip install git+https://github.com/sparks-baird/matbench-genmetrics.git\n",
    "except ImportError:\n",
    "    print(\"not in Colab\")"
   ]
  },
  {
   "cell_type": "code",
   "execution_count": 1,
   "metadata": {},
   "outputs": [],
   "source": [
    "from matbench_genmetrics.core.metrics import MPTSMetrics\n",
    "from tqdm.notebook import tqdm\n",
    "from pprint import pprint"
   ]
  },
  {
   "cell_type": "code",
   "execution_count": 3,
   "metadata": {},
   "outputs": [
    {
     "data": {
      "application/json": {
       "ascii": false,
       "bar_format": null,
       "colour": null,
       "elapsed": 0.008622407913208008,
       "initial": 0,
       "n": 0,
       "ncols": null,
       "nrows": null,
       "postfix": null,
       "prefix": "",
       "rate": null,
       "total": 4,
       "unit": "it",
       "unit_divisor": 1000,
       "unit_scale": false
      },
      "application/vnd.jupyter.widget-view+json": {
       "model_id": "7c28d2d3012f422e8dba4185ec7a27ac",
       "version_major": 2,
       "version_minor": 0
      },
      "text/plain": [
       "  0%|          | 0/4 [00:00<?, ?it/s]"
      ]
     },
     "metadata": {},
     "output_type": "display_data"
    },
    {
     "name": "stderr",
     "output_type": "stream",
     "text": [
      "Reading file c:\\Users\\hasan\\miniconda3\\envs\\matbench-genmetrics\\lib\\site-packages\\matbench_genmetrics\\mp_time_split\\utils\\mp_time_summary.json.gz: 0it [00:47, ?it/s]#####9| 40453/40476 [00:46<00:00, 874.82it/s] \n",
      "Decoding objects from c:\\Users\\hasan\\miniconda3\\envs\\matbench-genmetrics\\lib\\site-packages\\matbench_genmetrics\\mp_time_split\\utils\\mp_time_summary.json.gz: 100%|##########| 40476/40476 [00:47<00:00, 860.28it/s]\n",
      "Reading file c:\\Users\\hasan\\miniconda3\\envs\\matbench-genmetrics\\lib\\site-packages\\matbench_genmetrics\\mp_time_split\\utils\\mp_time_summary.json.gz: 0it [00:54, ?it/s]#####9| 40460/40476 [00:53<00:00, 624.34it/s] \n",
      "Decoding objects from c:\\Users\\hasan\\miniconda3\\envs\\matbench-genmetrics\\lib\\site-packages\\matbench_genmetrics\\mp_time_split\\utils\\mp_time_summary.json.gz: 100%|##########| 40476/40476 [00:54<00:00, 747.36it/s]\n",
      "ElementProperty: 100%|██████████| 5396/5396 [06:11<00:00, 14.53it/s]\n",
      "SiteStatsFingerprint: 100%|██████████| 5396/5396 [42:20<00:00,  2.12it/s]\n",
      "Reading file c:\\Users\\hasan\\miniconda3\\envs\\matbench-genmetrics\\lib\\site-packages\\matbench_genmetrics\\mp_time_split\\utils\\mp_time_summary.json.gz: 0it [00:53, ?it/s]#####9| 40472/40476 [00:53<00:00, 948.81it/s] \n",
      "Decoding objects from c:\\Users\\hasan\\miniconda3\\envs\\matbench-genmetrics\\lib\\site-packages\\matbench_genmetrics\\mp_time_split\\utils\\mp_time_summary.json.gz: 100%|##########| 40476/40476 [00:53<00:00, 750.62it/s]\n",
      "ElementProperty: 100%|██████████| 5396/5396 [06:42<00:00, 13.39it/s]\n",
      "SiteStatsFingerprint: 100%|██████████| 5396/5396 [48:03<00:00,  1.87it/s]\n",
      "Reading file c:\\Users\\hasan\\miniconda3\\envs\\matbench-genmetrics\\lib\\site-packages\\matbench_genmetrics\\mp_time_split\\utils\\mp_time_summary.json.gz: 0it [01:03, ?it/s]#####9| 40428/40476 [01:03<00:00, 833.34it/s] \n",
      "Decoding objects from c:\\Users\\hasan\\miniconda3\\envs\\matbench-genmetrics\\lib\\site-packages\\matbench_genmetrics\\mp_time_split\\utils\\mp_time_summary.json.gz: 100%|##########| 40476/40476 [01:03<00:00, 635.00it/s]\n",
      "ElementProperty: 100%|██████████| 5396/5396 [06:17<00:00, 14.30it/s]\n",
      "SiteStatsFingerprint: 100%|██████████| 5396/5396 [49:49<00:00,  1.81it/s]\n",
      "Reading file c:\\Users\\hasan\\miniconda3\\envs\\matbench-genmetrics\\lib\\site-packages\\matbench_genmetrics\\mp_time_split\\utils\\mp_time_summary.json.gz: 0it [01:00, ?it/s]#####9| 40446/40476 [00:59<00:00, 866.83it/s] \n",
      "Decoding objects from c:\\Users\\hasan\\miniconda3\\envs\\matbench-genmetrics\\lib\\site-packages\\matbench_genmetrics\\mp_time_split\\utils\\mp_time_summary.json.gz: 100%|##########| 40476/40476 [01:00<00:00, 671.02it/s]\n",
      "ElementProperty: 100%|██████████| 5396/5396 [06:36<00:00, 13.61it/s]\n",
      "SiteStatsFingerprint: 100%|██████████| 5396/5396 [51:38<00:00,  1.74it/s]\n"
     ]
    },
    {
     "name": "stdout",
     "output_type": "stream",
     "text": [
      "{0: {'coverage': 0.03280207561156412,\n",
      "     'novelty': 0.9571905114899926,\n",
      "     'uniqueness': 0.9998874668429091,\n",
      "     'validity': 0.9657295385947532},\n",
      " 1: {'coverage': 0.032987398072646404,\n",
      "     'novelty': 0.948295033358043,\n",
      "     'uniqueness': 0.9999187947547732,\n",
      "     'validity': 0.9689630506461338},\n",
      " 2: {'coverage': 0.019644180874722018,\n",
      "     'novelty': 0.9529280948851001,\n",
      "     'uniqueness': 0.999984404745629,\n",
      "     'validity': 0.942820170335924},\n",
      " 3: {'coverage': 0.02575982209043736,\n",
      "     'novelty': 0.939770200148258,\n",
      "     'uniqueness': 0.9999801452488405,\n",
      "     'validity': 0.8635418248589397}}\n",
      "CPU times: total: 4min 30s\n",
      "Wall time: 3h 48min 31s\n"
     ]
    }
   ],
   "source": [
    "%%time\n",
    "n = 5396\n",
    "mptm = MPTSMetrics(dummy=False, verbose=True, num_gen=n)\n",
    "mptm2 = MPTSMetrics(dummy=False, verbose=True, num_gen=n)\n",
    "for fold in tqdm(mptm.folds[0:4]):  \n",
    "    train_val_inputs_1, test_structures = mptm.get_train_and_val_data(fold, return_test=True)\n",
    "    train_val_inputs_2, gen_structures = mptm2.get_train_and_val_data(fold + 1, return_test=True)\n",
    "\n",
    "    mptm.evaluate_and_record(fold, gen_structures)\n",
    "    \n",
    "pprint(mptm.recorded_metrics)"
   ]
  }
 ],
 "metadata": {
  "kernelspec": {
   "display_name": "matbench-genmetrics",
   "language": "python",
   "name": "python3"
  },
  "language_info": {
   "codemirror_mode": {
    "name": "ipython",
    "version": 3
   },
   "file_extension": ".py",
   "mimetype": "text/x-python",
   "name": "python",
   "nbconvert_exporter": "python",
   "pygments_lexer": "ipython3",
   "version": "3.9.18"
  }
 },
 "nbformat": 4,
 "nbformat_minor": 2
}
