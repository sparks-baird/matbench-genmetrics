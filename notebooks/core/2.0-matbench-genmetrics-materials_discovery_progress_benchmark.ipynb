{
 "cells": [
  {
   "cell_type": "markdown",
   "metadata": {},
   "source": [
    "This Python script employs a five-folds leveraging the `mp_time_split` subpackage. By treating materials discovered in the future as generated data, the script benchmarks the progress of materials discovery over time. Each fold partitions the dataset into distinct training, validation, and generated sets, simulating the incremental advancement of materials science."
   ]
  },
  {
   "cell_type": "markdown",
   "metadata": {},
   "source": [
    "<a href=\"https://colab.research.google.com/github/sparks-baird/matbench-genmetrics/blob/main/notebooks/core/2.0-matbench-genmetrics-materials_discovery_progress_benchmark.ipynb\" target=\"_parent\"><img src=\"https://colab.research.google.com/assets/colab-badge.svg\" alt=\"Open In Colab\"/></a>"
   ]
  },
  {
   "cell_type": "markdown",
   "metadata": {},
   "source": [
    "<font color=\"red\">**NOTE: If using Colab, \"Restart Runtime\" after installation.**</font>"
   ]
  },
  {
   "cell_type": "code",
   "execution_count": null,
   "metadata": {},
   "outputs": [],
   "source": [
    "from google.colab import output\n",
    "output.enable_custom_widget_manager()"
   ]
  },
  {
   "cell_type": "code",
   "execution_count": null,
   "metadata": {},
   "outputs": [],
   "source": [
    "try:\n",
    "    import google.colab  # type: ignore # noqa: F401\n",
    "    %pip install git+https://github.com/sparks-baird/matbench-genmetrics.git\n",
    "except ImportError:\n",
    "    print(\"not in Colab\")"
   ]
  },
  {
   "cell_type": "code",
   "execution_count": 1,
   "metadata": {},
   "outputs": [],
   "source": [
    "from matbench_genmetrics.core.metrics import MPTSMetrics\n",
    "from tqdm.notebook import tqdm\n",
    "from pprint import pprint"
   ]
  },
  {
   "cell_type": "code",
   "execution_count": 2,
   "metadata": {},
   "outputs": [
    {
     "data": {
      "application/json": {
       "ascii": false,
       "bar_format": null,
       "colour": null,
       "elapsed": 0.003397226333618164,
       "initial": 0,
       "n": 0,
       "ncols": null,
       "nrows": null,
       "postfix": null,
       "prefix": "",
       "rate": null,
       "total": 5,
       "unit": "it",
       "unit_divisor": 1000,
       "unit_scale": false
      },
      "application/vnd.jupyter.widget-view+json": {
       "model_id": "c01f7606428a44ea98e8fb6f26dbef1a",
       "version_major": 2,
       "version_minor": 0
      },
      "text/plain": [
       "  0%|          | 0/5 [00:00<?, ?it/s]"
      ]
     },
     "metadata": {},
     "output_type": "display_data"
    },
    {
     "name": "stderr",
     "output_type": "stream",
     "text": [
      "Reading file c:\\Users\\hasan\\miniconda3\\envs\\matbench-genmetrics\\lib\\site-packages\\matbench_genmetrics\\mp_time_split\\utils\\mp_time_summary.json.gz: 0it [00:37, ?it/s]#####9| 40397/40476 [00:37<00:00, 1319.20it/s]\n",
      "Decoding objects from c:\\Users\\hasan\\miniconda3\\envs\\matbench-genmetrics\\lib\\site-packages\\matbench_genmetrics\\mp_time_split\\utils\\mp_time_summary.json.gz: 100%|##########| 40476/40476 [00:37<00:00, 1082.05it/s]\n",
      "ElementProperty: 100%|██████████| 5396/5396 [04:41<00:00, 19.19it/s]\n",
      "SiteStatsFingerprint: 100%|██████████| 5396/5396 [31:52<00:00,  2.82it/s]\n",
      "ElementProperty: 100%|██████████| 5396/5396 [04:59<00:00, 18.02it/s]\n",
      "SiteStatsFingerprint: 100%|██████████| 5396/5396 [34:05<00:00,  2.64it/s]\n",
      "ElementProperty: 100%|██████████| 5396/5396 [04:54<00:00, 18.29it/s]\n",
      "SiteStatsFingerprint: 100%|██████████| 5396/5396 [35:54<00:00,  2.50it/s]\n",
      "ElementProperty: 100%|██████████| 5396/5396 [04:52<00:00, 18.46it/s]\n",
      "SiteStatsFingerprint: 100%|██████████| 5396/5396 [37:33<00:00,  2.39it/s]\n",
      "ElementProperty: 100%|██████████| 5396/5396 [04:55<00:00, 18.29it/s]\n",
      "SiteStatsFingerprint: 100%|██████████| 5396/5396 [39:05<00:00,  2.30it/s]\n"
     ]
    },
    {
     "name": "stdout",
     "output_type": "stream",
     "text": [
      "{0: {'coverage': 1.0,\n",
      "     'novelty': 0.9444032616753151,\n",
      "     'uniqueness': 0.9999354892341219,\n",
      "     'validity': 0.8823073694046457},\n",
      " 1: {'coverage': 1.0,\n",
      "     'novelty': 0.9388435878428465,\n",
      "     'uniqueness': 0.9998874668429091,\n",
      "     'validity': 0.9657295385947532},\n",
      " 2: {'coverage': 1.0,\n",
      "     'novelty': 0.9267976278724981,\n",
      "     'uniqueness': 0.9999187947547732,\n",
      "     'validity': 0.9689630506461338},\n",
      " 3: {'coverage': 1.0,\n",
      "     'novelty': 0.9375463306152706,\n",
      "     'uniqueness': 0.999984404745629,\n",
      "     'validity': 0.942820170335924},\n",
      " 4: {'coverage': 0.9996293550778355,\n",
      "     'novelty': 0.9225352112676056,\n",
      "     'uniqueness': 0.9999801452488405,\n",
      "     'validity': 0.8635418248589397}}\n",
      "CPU times: total: 4min 51s\n",
      "Wall time: 3h 36min 15s\n"
     ]
    }
   ],
   "source": [
    "%%time\n",
    "mptm = MPTSMetrics(dummy=False, verbose=True, num_gen=5396)\n",
    "for fold in tqdm(mptm.folds):\n",
    "    train_val_inputs, gen_structures = mptm.get_train_and_val_data(fold, return_test=True)\n",
    "\n",
    "    mptm.evaluate_and_record(fold, gen_structures)\n",
    "\n",
    "pprint(mptm.recorded_metrics)"
   ]
  }
 ],
 "metadata": {
  "kernelspec": {
   "display_name": "matbench-genmetrics",
   "language": "python",
   "name": "python3"
  },
  "language_info": {
   "codemirror_mode": {
    "name": "ipython",
    "version": 3
   },
   "file_extension": ".py",
   "mimetype": "text/x-python",
   "name": "python",
   "nbconvert_exporter": "python",
   "pygments_lexer": "ipython3",
   "version": "3.9.18"
  }
 },
 "nbformat": 4,
 "nbformat_minor": 2
}
